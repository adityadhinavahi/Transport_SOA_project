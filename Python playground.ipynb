{
 "cells": [
  {
   "cell_type": "markdown",
   "id": "f54afe47",
   "metadata": {},
   "source": [
    "# This notebook is created for dummy implementation of the Transportation project\n",
    "## Author: Aditya Dhinavahi and Bas Kool"
   ]
  },
  {
   "cell_type": "code",
   "execution_count": null,
   "id": "f0d6a759",
   "metadata": {},
   "outputs": [],
   "source": [
    "#Location alert\n",
    "trip=\"trip1\"\n",
    "alert=False\n",
    "while !alert:\n",
    "    try:\n",
    "        df = pd.read_excel(\"Location_template.csv\")\n",
    "        if(df.loc[(df[\"Trip\"]==trip)&(df[\"Status\"].str.lower()==\"alert\")].shape[0]>0):\n",
    "            print(\"Alert! Your destination is near by...\")\n",
    "            alert = True\n",
    "    except Exception:\n",
    "        pass"
   ]
  },
  {
   "cell_type": "code",
   "execution_count": 6,
   "id": "884dd43e",
   "metadata": {},
   "outputs": [],
   "source": [
    "#Change status\n",
    "import pandas as pd\n",
    "trip = \"trip1\"\n",
    "status=\"Alert\"\n",
    "location=\"Amsterdam Schipol\"\n",
    "df = pd.read_csv(\"Location_template.csv\")\n",
    "df.loc[df[\"Trip\"]==trip,\"Status\"] = status\n",
    "df.loc[df[\"Trip\"]==trip,\"Location\"]=location\n",
    "df.to_csv(\"Location_template.csv\",index=False)"
   ]
  },
  {
   "cell_type": "code",
   "execution_count": 3,
   "id": "2c3fb05d",
   "metadata": {},
   "outputs": [
    {
     "data": {
      "text/html": [
       "<div>\n",
       "<style scoped>\n",
       "    .dataframe tbody tr th:only-of-type {\n",
       "        vertical-align: middle;\n",
       "    }\n",
       "\n",
       "    .dataframe tbody tr th {\n",
       "        vertical-align: top;\n",
       "    }\n",
       "\n",
       "    .dataframe thead th {\n",
       "        text-align: right;\n",
       "    }\n",
       "</style>\n",
       "<table border=\"1\" class=\"dataframe\">\n",
       "  <thead>\n",
       "    <tr style=\"text-align: right;\">\n",
       "      <th></th>\n",
       "      <th>Trip</th>\n",
       "      <th>Location</th>\n",
       "      <th>Status</th>\n",
       "      <th>Unnamed: 3</th>\n",
       "      <th>Unnamed: 4</th>\n",
       "      <th>Unnamed: 5</th>\n",
       "      <th>Unnamed: 6</th>\n",
       "    </tr>\n",
       "  </thead>\n",
       "  <tbody>\n",
       "    <tr>\n",
       "      <th>0</th>\n",
       "      <td>trip1</td>\n",
       "      <td>Utrecht</td>\n",
       "      <td>In Transit</td>\n",
       "      <td>NaN</td>\n",
       "      <td>NaN</td>\n",
       "      <td>NaN</td>\n",
       "      <td>NaN</td>\n",
       "    </tr>\n",
       "    <tr>\n",
       "      <th>1</th>\n",
       "      <td>trip2</td>\n",
       "      <td>Arnhem</td>\n",
       "      <td>In Transit</td>\n",
       "      <td>NaN</td>\n",
       "      <td>NaN</td>\n",
       "      <td>NaN</td>\n",
       "      <td>NaN</td>\n",
       "    </tr>\n",
       "    <tr>\n",
       "      <th>2</th>\n",
       "      <td>trip3</td>\n",
       "      <td>Eindhoven</td>\n",
       "      <td>Starting Soon</td>\n",
       "      <td>NaN</td>\n",
       "      <td>NaN</td>\n",
       "      <td>NaN</td>\n",
       "      <td>NaN</td>\n",
       "    </tr>\n",
       "    <tr>\n",
       "      <th>3</th>\n",
       "      <td>trip4</td>\n",
       "      <td>Amersfoort</td>\n",
       "      <td>In Transit</td>\n",
       "      <td>NaN</td>\n",
       "      <td>NaN</td>\n",
       "      <td>NaN</td>\n",
       "      <td>NaN</td>\n",
       "    </tr>\n",
       "  </tbody>\n",
       "</table>\n",
       "</div>"
      ],
      "text/plain": [
       "    Trip    Location         Status  Unnamed: 3  Unnamed: 4  Unnamed: 5  \\\n",
       "0  trip1     Utrecht     In Transit         NaN         NaN         NaN   \n",
       "1  trip2      Arnhem     In Transit         NaN         NaN         NaN   \n",
       "2  trip3   Eindhoven  Starting Soon         NaN         NaN         NaN   \n",
       "3  trip4  Amersfoort     In Transit         NaN         NaN         NaN   \n",
       "\n",
       "   Unnamed: 6  \n",
       "0         NaN  \n",
       "1         NaN  \n",
       "2         NaN  \n",
       "3         NaN  "
      ]
     },
     "execution_count": 3,
     "metadata": {},
     "output_type": "execute_result"
    }
   ],
   "source": [
    "df"
   ]
  },
  {
   "cell_type": "code",
   "execution_count": 12,
   "id": "fab38f39",
   "metadata": {},
   "outputs": [],
   "source": [
    "#Feedback\n",
    "from datetime import date\n",
    "trip=\"trip1\"\n",
    "d = date.today()\n",
    "t=\"Vehicle\"\n",
    "feedback=\"Good trip\"\n",
    "#Read the feedback file\n",
    "df = pd.read_csv(\"Feedback_template.csv\").iloc[:,:4]\n",
    "df.loc[-1] = [trip,d,feedback,t]\n",
    "df.to_csv(\"Feedback_template.csv\",index=False)"
   ]
  },
  {
   "cell_type": "code",
   "execution_count": 13,
   "id": "388046d7",
   "metadata": {},
   "outputs": [
    {
     "data": {
      "text/html": [
       "<div>\n",
       "<style scoped>\n",
       "    .dataframe tbody tr th:only-of-type {\n",
       "        vertical-align: middle;\n",
       "    }\n",
       "\n",
       "    .dataframe tbody tr th {\n",
       "        vertical-align: top;\n",
       "    }\n",
       "\n",
       "    .dataframe thead th {\n",
       "        text-align: right;\n",
       "    }\n",
       "</style>\n",
       "<table border=\"1\" class=\"dataframe\">\n",
       "  <thead>\n",
       "    <tr style=\"text-align: right;\">\n",
       "      <th></th>\n",
       "      <th>trip</th>\n",
       "      <th>Date</th>\n",
       "      <th>Feedback</th>\n",
       "      <th>Type</th>\n",
       "    </tr>\n",
       "  </thead>\n",
       "  <tbody>\n",
       "    <tr>\n",
       "      <th>0</th>\n",
       "      <td>trip1</td>\n",
       "      <td>17/3/22</td>\n",
       "      <td>Staff too rude</td>\n",
       "      <td>Staff</td>\n",
       "    </tr>\n",
       "    <tr>\n",
       "      <th>1</th>\n",
       "      <td>trip1</td>\n",
       "      <td>17/3/22</td>\n",
       "      <td>Trip was good</td>\n",
       "      <td>Vehicle</td>\n",
       "    </tr>\n",
       "    <tr>\n",
       "      <th>-1</th>\n",
       "      <td>trip1</td>\n",
       "      <td>2023-03-17</td>\n",
       "      <td>Good trip</td>\n",
       "      <td>Vehicle</td>\n",
       "    </tr>\n",
       "  </tbody>\n",
       "</table>\n",
       "</div>"
      ],
      "text/plain": [
       "     trip        Date        Feedback     Type\n",
       " 0  trip1     17/3/22  Staff too rude    Staff\n",
       " 1  trip1     17/3/22   Trip was good  Vehicle\n",
       "-1  trip1  2023-03-17       Good trip  Vehicle"
      ]
     },
     "execution_count": 13,
     "metadata": {},
     "output_type": "execute_result"
    }
   ],
   "source": [
    "df"
   ]
  },
  {
   "cell_type": "markdown",
   "id": "3b0fb9c2",
   "metadata": {},
   "source": [
    "> Need to work on how to connect the user and the feedback? Do we keep it anonymous? If yes, then the privacy is protected else, you know whom to offer service exactly"
   ]
  },
  {
   "cell_type": "code",
   "execution_count": 19,
   "id": "b324a7c9",
   "metadata": {},
   "outputs": [],
   "source": [
    "from datetime import datetime"
   ]
  },
  {
   "cell_type": "code",
   "execution_count": 33,
   "id": "e446ddfa",
   "metadata": {},
   "outputs": [
    {
     "data": {
      "text/plain": [
       "'dd/mm/yyyy'"
      ]
     },
     "execution_count": 33,
     "metadata": {},
     "output_type": "execute_result"
    }
   ],
   "source": [
    "datetime.strftime(datetime.today(),format=\"dd/mm/yyyy\")"
   ]
  },
  {
   "cell_type": "code",
   "execution_count": 67,
   "id": "e5c95cfa",
   "metadata": {},
   "outputs": [
    {
     "data": {
      "text/plain": [
       "'17/3/23'"
      ]
     },
     "execution_count": 67,
     "metadata": {},
     "output_type": "execute_result"
    }
   ],
   "source": [
    "datetime.today().strftime(\"%d/%-m/%y\")"
   ]
  },
  {
   "cell_type": "code",
   "execution_count": 82,
   "id": "98886334",
   "metadata": {},
   "outputs": [],
   "source": [
    "#Query for calculating trip\n",
    "#Scenario 1: All trips\n",
    "df = pd.read_csv(\"Trip_template.csv\")\n",
    "#Query: Enschede to Amsterdam on 19/3/22\n",
    "search = df.loc[((df[\"From\"]==\"Enschede\")|(df[\"To\"]==\"Amsterdam\")|(df[\"Departure\"]<df[\"Arrival\"]))&(df[\"Date\"]==\"19/3/22\")]"
   ]
  },
  {
   "cell_type": "code",
   "execution_count": 83,
   "id": "aa842f00",
   "metadata": {},
   "outputs": [
    {
     "data": {
      "text/html": [
       "<div>\n",
       "<style scoped>\n",
       "    .dataframe tbody tr th:only-of-type {\n",
       "        vertical-align: middle;\n",
       "    }\n",
       "\n",
       "    .dataframe tbody tr th {\n",
       "        vertical-align: top;\n",
       "    }\n",
       "\n",
       "    .dataframe thead th {\n",
       "        text-align: right;\n",
       "    }\n",
       "</style>\n",
       "<table border=\"1\" class=\"dataframe\">\n",
       "  <thead>\n",
       "    <tr style=\"text-align: right;\">\n",
       "      <th></th>\n",
       "      <th>From</th>\n",
       "      <th>To</th>\n",
       "      <th>Mode</th>\n",
       "      <th>Date</th>\n",
       "      <th>Departure</th>\n",
       "      <th>Arrival</th>\n",
       "      <th>Total Time</th>\n",
       "      <th>Wheelchair Accessible</th>\n",
       "      <th>Amenities</th>\n",
       "      <th>Crowd expectation</th>\n",
       "      <th>Cost</th>\n",
       "      <th>URL</th>\n",
       "      <th>id</th>\n",
       "    </tr>\n",
       "  </thead>\n",
       "  <tbody>\n",
       "    <tr>\n",
       "      <th>2</th>\n",
       "      <td>Enschede</td>\n",
       "      <td>Amsterdam</td>\n",
       "      <td>Train</td>\n",
       "      <td>19/3/22</td>\n",
       "      <td>8:00</td>\n",
       "      <td>10:05</td>\n",
       "      <td>2.08</td>\n",
       "      <td>Y</td>\n",
       "      <td>WiFi, Bathroom</td>\n",
       "      <td>0.8</td>\n",
       "      <td>27</td>\n",
       "      <td>https://ns.nl</td>\n",
       "      <td>trip1</td>\n",
       "    </tr>\n",
       "    <tr>\n",
       "      <th>10</th>\n",
       "      <td>Enschede</td>\n",
       "      <td>Eindhoven</td>\n",
       "      <td>Train</td>\n",
       "      <td>19/3/22</td>\n",
       "      <td>7:30</td>\n",
       "      <td>9:00</td>\n",
       "      <td>1.50</td>\n",
       "      <td>N</td>\n",
       "      <td>WiFi</td>\n",
       "      <td>0.6</td>\n",
       "      <td>15</td>\n",
       "      <td>https://ns.nl</td>\n",
       "      <td>trip2</td>\n",
       "    </tr>\n",
       "    <tr>\n",
       "      <th>14</th>\n",
       "      <td>Eindhoven</td>\n",
       "      <td>Amsterdam</td>\n",
       "      <td>Bus</td>\n",
       "      <td>19/3/22</td>\n",
       "      <td>10:00</td>\n",
       "      <td>11:30</td>\n",
       "      <td>1.50</td>\n",
       "      <td>Y</td>\n",
       "      <td>Bathroom</td>\n",
       "      <td>0.3</td>\n",
       "      <td>14</td>\n",
       "      <td>https://ns.nl</td>\n",
       "      <td>trip3</td>\n",
       "    </tr>\n",
       "  </tbody>\n",
       "</table>\n",
       "</div>"
      ],
      "text/plain": [
       "         From         To   Mode     Date Departure Arrival  Total Time  \\\n",
       "2    Enschede  Amsterdam  Train  19/3/22      8:00   10:05        2.08   \n",
       "10   Enschede  Eindhoven  Train  19/3/22      7:30    9:00        1.50   \n",
       "14  Eindhoven  Amsterdam    Bus  19/3/22     10:00   11:30        1.50   \n",
       "\n",
       "   Wheelchair Accessible       Amenities  Crowd expectation  Cost  \\\n",
       "2                      Y  WiFi, Bathroom                0.8    27   \n",
       "10                     N            WiFi                0.6    15   \n",
       "14                     Y        Bathroom                0.3    14   \n",
       "\n",
       "              URL     id  \n",
       "2   https://ns.nl  trip1  \n",
       "10  https://ns.nl  trip2  \n",
       "14  https://ns.nl  trip3  "
      ]
     },
     "execution_count": 83,
     "metadata": {},
     "output_type": "execute_result"
    }
   ],
   "source": [
    "search"
   ]
  },
  {
   "cell_type": "code",
   "execution_count": 85,
   "id": "fc217fb9",
   "metadata": {},
   "outputs": [
    {
     "data": {
      "text/html": [
       "<div>\n",
       "<style scoped>\n",
       "    .dataframe tbody tr th:only-of-type {\n",
       "        vertical-align: middle;\n",
       "    }\n",
       "\n",
       "    .dataframe tbody tr th {\n",
       "        vertical-align: top;\n",
       "    }\n",
       "\n",
       "    .dataframe thead th {\n",
       "        text-align: right;\n",
       "    }\n",
       "</style>\n",
       "<table border=\"1\" class=\"dataframe\">\n",
       "  <thead>\n",
       "    <tr style=\"text-align: right;\">\n",
       "      <th></th>\n",
       "      <th>From</th>\n",
       "      <th>To</th>\n",
       "      <th>Mode</th>\n",
       "      <th>Date</th>\n",
       "      <th>Departure</th>\n",
       "      <th>Arrival</th>\n",
       "      <th>Total Time</th>\n",
       "      <th>Wheelchair Accessible</th>\n",
       "      <th>Amenities</th>\n",
       "      <th>Crowd expectation</th>\n",
       "      <th>Cost</th>\n",
       "      <th>URL</th>\n",
       "      <th>id</th>\n",
       "    </tr>\n",
       "  </thead>\n",
       "  <tbody>\n",
       "    <tr>\n",
       "      <th>2</th>\n",
       "      <td>Enschede</td>\n",
       "      <td>Amsterdam</td>\n",
       "      <td>Train</td>\n",
       "      <td>19/3/22</td>\n",
       "      <td>8:00</td>\n",
       "      <td>10:05</td>\n",
       "      <td>2.08</td>\n",
       "      <td>Y</td>\n",
       "      <td>WiFi, Bathroom</td>\n",
       "      <td>0.8</td>\n",
       "      <td>27</td>\n",
       "      <td>https://ns.nl</td>\n",
       "      <td>trip1</td>\n",
       "    </tr>\n",
       "    <tr>\n",
       "      <th>14</th>\n",
       "      <td>Eindhoven</td>\n",
       "      <td>Amsterdam</td>\n",
       "      <td>Bus</td>\n",
       "      <td>19/3/22</td>\n",
       "      <td>10:00</td>\n",
       "      <td>11:30</td>\n",
       "      <td>1.50</td>\n",
       "      <td>Y</td>\n",
       "      <td>Bathroom</td>\n",
       "      <td>0.3</td>\n",
       "      <td>14</td>\n",
       "      <td>https://ns.nl</td>\n",
       "      <td>trip3</td>\n",
       "    </tr>\n",
       "  </tbody>\n",
       "</table>\n",
       "</div>"
      ],
      "text/plain": [
       "         From         To   Mode     Date Departure Arrival  Total Time  \\\n",
       "2    Enschede  Amsterdam  Train  19/3/22      8:00   10:05        2.08   \n",
       "14  Eindhoven  Amsterdam    Bus  19/3/22     10:00   11:30        1.50   \n",
       "\n",
       "   Wheelchair Accessible       Amenities  Crowd expectation  Cost  \\\n",
       "2                      Y  WiFi, Bathroom                0.8    27   \n",
       "14                     Y        Bathroom                0.3    14   \n",
       "\n",
       "              URL     id  \n",
       "2   https://ns.nl  trip1  \n",
       "14  https://ns.nl  trip3  "
      ]
     },
     "execution_count": 85,
     "metadata": {},
     "output_type": "execute_result"
    }
   ],
   "source": [
    "#Filter accessibility\n",
    "search.loc[((df[\"Wheelchair Accessible\"]==\"Y\"))]"
   ]
  },
  {
   "cell_type": "code",
   "execution_count": 86,
   "id": "787bbefa",
   "metadata": {},
   "outputs": [
    {
     "data": {
      "text/html": [
       "<div>\n",
       "<style scoped>\n",
       "    .dataframe tbody tr th:only-of-type {\n",
       "        vertical-align: middle;\n",
       "    }\n",
       "\n",
       "    .dataframe tbody tr th {\n",
       "        vertical-align: top;\n",
       "    }\n",
       "\n",
       "    .dataframe thead th {\n",
       "        text-align: right;\n",
       "    }\n",
       "</style>\n",
       "<table border=\"1\" class=\"dataframe\">\n",
       "  <thead>\n",
       "    <tr style=\"text-align: right;\">\n",
       "      <th></th>\n",
       "      <th>From</th>\n",
       "      <th>To</th>\n",
       "      <th>Mode</th>\n",
       "      <th>Date</th>\n",
       "      <th>Departure</th>\n",
       "      <th>Arrival</th>\n",
       "      <th>Total Time</th>\n",
       "      <th>Wheelchair Accessible</th>\n",
       "      <th>Amenities</th>\n",
       "      <th>Crowd expectation</th>\n",
       "      <th>Cost</th>\n",
       "      <th>URL</th>\n",
       "      <th>id</th>\n",
       "    </tr>\n",
       "  </thead>\n",
       "  <tbody>\n",
       "    <tr>\n",
       "      <th>10</th>\n",
       "      <td>Enschede</td>\n",
       "      <td>Eindhoven</td>\n",
       "      <td>Train</td>\n",
       "      <td>19/3/22</td>\n",
       "      <td>7:30</td>\n",
       "      <td>9:00</td>\n",
       "      <td>1.50</td>\n",
       "      <td>N</td>\n",
       "      <td>WiFi</td>\n",
       "      <td>0.6</td>\n",
       "      <td>15</td>\n",
       "      <td>https://ns.nl</td>\n",
       "      <td>trip2</td>\n",
       "    </tr>\n",
       "    <tr>\n",
       "      <th>14</th>\n",
       "      <td>Eindhoven</td>\n",
       "      <td>Amsterdam</td>\n",
       "      <td>Bus</td>\n",
       "      <td>19/3/22</td>\n",
       "      <td>10:00</td>\n",
       "      <td>11:30</td>\n",
       "      <td>1.50</td>\n",
       "      <td>Y</td>\n",
       "      <td>Bathroom</td>\n",
       "      <td>0.3</td>\n",
       "      <td>14</td>\n",
       "      <td>https://ns.nl</td>\n",
       "      <td>trip3</td>\n",
       "    </tr>\n",
       "    <tr>\n",
       "      <th>2</th>\n",
       "      <td>Enschede</td>\n",
       "      <td>Amsterdam</td>\n",
       "      <td>Train</td>\n",
       "      <td>19/3/22</td>\n",
       "      <td>8:00</td>\n",
       "      <td>10:05</td>\n",
       "      <td>2.08</td>\n",
       "      <td>Y</td>\n",
       "      <td>WiFi, Bathroom</td>\n",
       "      <td>0.8</td>\n",
       "      <td>27</td>\n",
       "      <td>https://ns.nl</td>\n",
       "      <td>trip1</td>\n",
       "    </tr>\n",
       "  </tbody>\n",
       "</table>\n",
       "</div>"
      ],
      "text/plain": [
       "         From         To   Mode     Date Departure Arrival  Total Time  \\\n",
       "10   Enschede  Eindhoven  Train  19/3/22      7:30    9:00        1.50   \n",
       "14  Eindhoven  Amsterdam    Bus  19/3/22     10:00   11:30        1.50   \n",
       "2    Enschede  Amsterdam  Train  19/3/22      8:00   10:05        2.08   \n",
       "\n",
       "   Wheelchair Accessible       Amenities  Crowd expectation  Cost  \\\n",
       "10                     N            WiFi                0.6    15   \n",
       "14                     Y        Bathroom                0.3    14   \n",
       "2                      Y  WiFi, Bathroom                0.8    27   \n",
       "\n",
       "              URL     id  \n",
       "10  https://ns.nl  trip2  \n",
       "14  https://ns.nl  trip3  \n",
       "2   https://ns.nl  trip1  "
      ]
     },
     "execution_count": 86,
     "metadata": {},
     "output_type": "execute_result"
    }
   ],
   "source": [
    "#Sort query by time\n",
    "search.sort_values(by=\"Total Time\")"
   ]
  },
  {
   "cell_type": "code",
   "execution_count": 87,
   "id": "f6c1ae62",
   "metadata": {},
   "outputs": [],
   "source": [
    "#ToDo: Add feature to combine stop trips into a possible trip, this is essential to determine which is faster"
   ]
  },
  {
   "cell_type": "code",
   "execution_count": null,
   "id": "8e2ad622",
   "metadata": {},
   "outputs": [],
   "source": []
  }
 ],
 "metadata": {
  "kernelspec": {
   "display_name": "Python 3 (ipykernel)",
   "language": "python",
   "name": "python3"
  },
  "language_info": {
   "codemirror_mode": {
    "name": "ipython",
    "version": 3
   },
   "file_extension": ".py",
   "mimetype": "text/x-python",
   "name": "python",
   "nbconvert_exporter": "python",
   "pygments_lexer": "ipython3",
   "version": "3.8.13"
  }
 },
 "nbformat": 4,
 "nbformat_minor": 5
}
